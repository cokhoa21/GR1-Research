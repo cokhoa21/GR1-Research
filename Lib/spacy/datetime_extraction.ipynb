{
 "cells": [
  {
   "cell_type": "code",
   "execution_count": 3,
   "metadata": {},
   "outputs": [
    {
     "name": "stdout",
     "output_type": "stream",
     "text": [
      "['14/12/1996', '14/12', '1996', '12/2000']\n"
     ]
    },
    {
     "name": "stderr",
     "output_type": "stream",
     "text": [
      "<>:2: SyntaxWarning: invalid escape sequence '\\d'\n",
      "<>:3: SyntaxWarning: invalid escape sequence '\\d'\n",
      "<>:4: SyntaxWarning: invalid escape sequence '\\d'\n",
      "<>:5: SyntaxWarning: invalid escape sequence '\\d'\n",
      "<>:2: SyntaxWarning: invalid escape sequence '\\d'\n",
      "<>:3: SyntaxWarning: invalid escape sequence '\\d'\n",
      "<>:4: SyntaxWarning: invalid escape sequence '\\d'\n",
      "<>:5: SyntaxWarning: invalid escape sequence '\\d'\n",
      "C:\\Users\\Co Huy Khoa\\AppData\\Local\\Temp\\ipykernel_23932\\1394888546.py:2: SyntaxWarning: invalid escape sequence '\\d'\n",
      "  datetime = '\\d{1,2}\\s?[:/-]\\s?\\d{1,2}\\s?[:/-]\\s?\\d{4}' \\\n",
      "C:\\Users\\Co Huy Khoa\\AppData\\Local\\Temp\\ipykernel_23932\\1394888546.py:3: SyntaxWarning: invalid escape sequence '\\d'\n",
      "  '|\\d{1,2}\\s?[:/-]\\s?\\d{4}' \\\n",
      "C:\\Users\\Co Huy Khoa\\AppData\\Local\\Temp\\ipykernel_23932\\1394888546.py:4: SyntaxWarning: invalid escape sequence '\\d'\n",
      "  '|\\d{1,2}\\s?[:/-]\\s?\\d{1,2}' \\\n",
      "C:\\Users\\Co Huy Khoa\\AppData\\Local\\Temp\\ipykernel_23932\\1394888546.py:5: SyntaxWarning: invalid escape sequence '\\d'\n",
      "  '|\\d{4}'\n"
     ]
    }
   ],
   "source": [
    "text = u'Ngày 14/12/1996 là ngày 14/12 của năm 1996. Tháng 12/2000 là tháng cuối cùng của năm.'\n",
    "datetime = '\\d{1,2}\\s?[:/-]\\s?\\d{1,2}\\s?[:/-]\\s?\\d{4}' \\\n",
    "           '|\\d{1,2}\\s?[:/-]\\s?\\d{4}' \\\n",
    "           '|\\d{1,2}\\s?[:/-]\\s?\\d{1,2}' \\\n",
    "           '|\\d{4}'\n",
    "\n",
    "import re\n",
    "print(re.findall(datetime, text))"
   ]
  }
 ],
 "metadata": {
  "kernelspec": {
   "display_name": "Python 3",
   "language": "python",
   "name": "python3"
  },
  "language_info": {
   "codemirror_mode": {
    "name": "ipython",
    "version": 3
   },
   "file_extension": ".py",
   "mimetype": "text/x-python",
   "name": "python",
   "nbconvert_exporter": "python",
   "pygments_lexer": "ipython3",
   "version": "3.12.2"
  }
 },
 "nbformat": 4,
 "nbformat_minor": 2
}
