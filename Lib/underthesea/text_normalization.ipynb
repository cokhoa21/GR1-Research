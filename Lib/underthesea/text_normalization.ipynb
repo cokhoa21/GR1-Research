{
 "cells": [
  {
   "cell_type": "code",
   "execution_count": null,
   "metadata": {},
   "outputs": [],
   "source": [
    "from underthesea import text_normalize\n",
    "text_normalize(\"Ðảm baỏ chất lựơng phòng thí nghịêm hoá học\")"
   ]
  }
 ],
 "metadata": {
  "language_info": {
   "name": "python"
  }
 },
 "nbformat": 4,
 "nbformat_minor": 2
}
