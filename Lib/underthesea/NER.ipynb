{
 "cells": [
  {
   "cell_type": "code",
   "execution_count": 2,
   "metadata": {},
   "outputs": [
    {
     "data": {
      "text/plain": [
       "[('Ông', 'Nc', 'B-NP', 'O'),\n",
       " ('Putin', 'Np', 'B-NP', 'B-PER'),\n",
       " ('ca ngợi', 'V', 'B-VP', 'O'),\n",
       " ('những', 'L', 'B-NP', 'O'),\n",
       " ('thành tựu', 'N', 'B-NP', 'O'),\n",
       " ('vĩ đại', 'A', 'B-AP', 'O'),\n",
       " ('của', 'E', 'B-PP', 'O'),\n",
       " ('Liên Xô', 'Np', 'B-NP', 'B-LOC')]"
      ]
     },
     "execution_count": 2,
     "metadata": {},
     "output_type": "execute_result"
    }
   ],
   "source": [
    "from underthesea import ner\n",
    "text = 'Chưa tiết lộ lịch trình tới Việt Nam của Tổng thống Mỹ Donald Trump'\n",
    "ner(text)"
   ]
  }
 ],
 "metadata": {
  "kernelspec": {
   "display_name": "Python 3",
   "language": "python",
   "name": "python3"
  },
  "language_info": {
   "codemirror_mode": {
    "name": "ipython",
    "version": 3
   },
   "file_extension": ".py",
   "mimetype": "text/x-python",
   "name": "python",
   "nbconvert_exporter": "python",
   "pygments_lexer": "ipython3",
   "version": "3.10.14"
  }
 },
 "nbformat": 4,
 "nbformat_minor": 2
}
