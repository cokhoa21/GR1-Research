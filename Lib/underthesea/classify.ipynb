{
 "cells": [
  {
   "cell_type": "code",
   "execution_count": 1,
   "metadata": {},
   "outputs": [
    {
     "name": "stdout",
     "output_type": "stream",
     "text": [
      "2024-03-26 13:44:02,473 https://github.com/undertheseanlp/playground/releases/download/1.3.x/tc_svm_vntc_20201228.zip not found in cache, downloading to C:\\Users\\COHUYK~1\\AppData\\Local\\Temp\\tmp06vr2p22\n"
     ]
    },
    {
     "name": "stderr",
     "output_type": "stream",
     "text": [
      "100%|██████████| 75578053/75578053 [01:20<00:00, 937240.14B/s] "
     ]
    },
    {
     "name": "stdout",
     "output_type": "stream",
     "text": [
      "2024-03-26 13:45:24,436 copying C:\\Users\\COHUYK~1\\AppData\\Local\\Temp\\tmp06vr2p22 to cache at C:\\Users\\Co Huy Khoa\\.underthesea\\models\\tc_svm_vntc_20201228.zip\n",
      "2024-03-26 13:45:24,493 removing temp file C:\\Users\\COHUYK~1\\AppData\\Local\\Temp\\tmp06vr2p22\n"
     ]
    },
    {
     "name": "stderr",
     "output_type": "stream",
     "text": [
      "\n"
     ]
    },
    {
     "data": {
      "text/plain": [
       "['vi_tinh']"
      ]
     },
     "execution_count": 1,
     "metadata": {},
     "output_type": "execute_result"
    }
   ],
   "source": [
    "from underthesea import classify\n",
    "sentence = \"Facebook gửi thông báo khi ảnh người dùng bị đăng tải lên mạng\"\n",
    "classify(sentence)"
   ]
  }
 ],
 "metadata": {
  "kernelspec": {
   "display_name": "Python 3",
   "language": "python",
   "name": "python3"
  },
  "language_info": {
   "codemirror_mode": {
    "name": "ipython",
    "version": 3
   },
   "file_extension": ".py",
   "mimetype": "text/x-python",
   "name": "python",
   "nbconvert_exporter": "python",
   "pygments_lexer": "ipython3",
   "version": "3.11.7"
  }
 },
 "nbformat": 4,
 "nbformat_minor": 2
}
