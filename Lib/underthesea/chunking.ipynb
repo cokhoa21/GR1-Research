{
 "cells": [
  {
   "cell_type": "code",
   "execution_count": 1,
   "metadata": {},
   "outputs": [
    {
     "data": {
      "text/plain": [
       "[('Nghi vấn', 'N', 'B-NP'),\n",
       " ('4', 'M', 'B-NP'),\n",
       " ('thi thể', 'N', 'B-NP'),\n",
       " ('Triều Tiên', 'Np', 'B-NP'),\n",
       " ('trôi dạt', 'V', 'B-VP'),\n",
       " ('bờ', 'N', 'B-NP'),\n",
       " ('biển', 'N', 'B-NP'),\n",
       " ('Nhật Bản', 'Np', 'B-NP')]"
      ]
     },
     "execution_count": 1,
     "metadata": {},
     "output_type": "execute_result"
    }
   ],
   "source": [
    "from underthesea import chunk\n",
    "sentence = \"Nghi vấn 4 thi thể Triều Tiên trôi dạt bờ biển Nhật Bản\"\n",
    "chunk(sentence)"
   ]
  }
 ],
 "metadata": {
  "kernelspec": {
   "display_name": "Python 3",
   "language": "python",
   "name": "python3"
  },
  "language_info": {
   "codemirror_mode": {
    "name": "ipython",
    "version": 3
   },
   "file_extension": ".py",
   "mimetype": "text/x-python",
   "name": "python",
   "nbconvert_exporter": "python",
   "pygments_lexer": "ipython3",
   "version": "3.11.7"
  }
 },
 "nbformat": 4,
 "nbformat_minor": 2
}
